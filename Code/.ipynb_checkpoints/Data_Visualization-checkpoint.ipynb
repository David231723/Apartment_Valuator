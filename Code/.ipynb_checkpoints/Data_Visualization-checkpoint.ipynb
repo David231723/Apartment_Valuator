{
 "cells": [
  {
   "cell_type": "markdown",
   "id": "28961b45-fd32-480b-b3b1-5a3675728546",
   "metadata": {},
   "source": [
    "# Importing libraries & data"
   ]
  },
  {
   "cell_type": "markdown",
   "id": "66926387-453b-43e3-b07d-88ac3dc6e33b",
   "metadata": {},
   "source": [
    "- Libraries"
   ]
  },
  {
   "cell_type": "code",
   "execution_count": 1,
   "id": "e2ac2a50-a852-4809-9755-7159b90a8a29",
   "metadata": {},
   "outputs": [],
   "source": [
    "import streamlit as st\n",
    "import pandas as pd\n",
    "import numpy as np\n",
    "import plotly.express as px"
   ]
  },
  {
   "cell_type": "markdown",
   "id": "1529fe67-97c5-4c65-9cc1-1327f696443b",
   "metadata": {},
   "source": [
    "- Importing df"
   ]
  },
  {
   "cell_type": "code",
   "execution_count": 3,
   "id": "dc46393e-7a6d-4bbb-bb35-0bab72c41ea7",
   "metadata": {},
   "outputs": [
    {
     "data": {
      "text/html": [
       "<div>\n",
       "<style scoped>\n",
       "    .dataframe tbody tr th:only-of-type {\n",
       "        vertical-align: middle;\n",
       "    }\n",
       "\n",
       "    .dataframe tbody tr th {\n",
       "        vertical-align: top;\n",
       "    }\n",
       "\n",
       "    .dataframe thead th {\n",
       "        text-align: right;\n",
       "    }\n",
       "</style>\n",
       "<table border=\"1\" class=\"dataframe\">\n",
       "  <thead>\n",
       "    <tr style=\"text-align: right;\">\n",
       "      <th></th>\n",
       "      <th>id</th>\n",
       "      <th>title</th>\n",
       "      <th>sq_mt_built</th>\n",
       "      <th>sq_mt_useful</th>\n",
       "      <th>n_rooms</th>\n",
       "      <th>n_bathrooms</th>\n",
       "      <th>floor</th>\n",
       "      <th>rent_price</th>\n",
       "      <th>buy_price</th>\n",
       "      <th>house_type_id</th>\n",
       "      <th>...</th>\n",
       "      <th>has_balcony</th>\n",
       "      <th>has_storage_room</th>\n",
       "      <th>is_accessible</th>\n",
       "      <th>has_green_zones</th>\n",
       "      <th>energy_certificate</th>\n",
       "      <th>has_parking</th>\n",
       "      <th>Neighborhood_code</th>\n",
       "      <th>Neighborhood_name</th>\n",
       "      <th>District_code</th>\n",
       "      <th>District_name</th>\n",
       "    </tr>\n",
       "  </thead>\n",
       "  <tbody>\n",
       "    <tr>\n",
       "      <th>16157</th>\n",
       "      <td>5288</td>\n",
       "      <td>Piso en venta en calle Alcatraz</td>\n",
       "      <td>67.0</td>\n",
       "      <td>NaN</td>\n",
       "      <td>3</td>\n",
       "      <td>1</td>\n",
       "      <td>1</td>\n",
       "      <td>705</td>\n",
       "      <td>140000</td>\n",
       "      <td>Pisos</td>\n",
       "      <td>...</td>\n",
       "      <td>False</td>\n",
       "      <td>False</td>\n",
       "      <td>False</td>\n",
       "      <td>False</td>\n",
       "      <td>G</td>\n",
       "      <td>False</td>\n",
       "      <td>15</td>\n",
       "      <td>Opañel</td>\n",
       "      <td>3</td>\n",
       "      <td>Carabanchel</td>\n",
       "    </tr>\n",
       "  </tbody>\n",
       "</table>\n",
       "<p>1 rows × 29 columns</p>\n",
       "</div>"
      ],
      "text/plain": [
       "         id                            title  sq_mt_built  sq_mt_useful  \\\n",
       "16157  5288  Piso en venta en calle Alcatraz         67.0           NaN   \n",
       "\n",
       "      n_rooms n_bathrooms floor  rent_price  buy_price house_type_id  ...  \\\n",
       "16157       3           1     1         705     140000         Pisos  ...   \n",
       "\n",
       "       has_balcony  has_storage_room  is_accessible  has_green_zones  \\\n",
       "16157        False             False          False            False   \n",
       "\n",
       "       energy_certificate  has_parking  Neighborhood_code  Neighborhood_name  \\\n",
       "16157                   G        False                 15             Opañel   \n",
       "\n",
       "       District_code  District_name  \n",
       "16157              3    Carabanchel  \n",
       "\n",
       "[1 rows x 29 columns]"
      ]
     },
     "execution_count": 3,
     "metadata": {},
     "output_type": "execute_result"
    }
   ],
   "source": [
    "df = pd.read_csv(r\"C:\\Users\\DavidVicente\\Desktop\\IronHack\\Final_Project\\Apartment_Valuator\\Data\\cleaned_df.csv\")\n",
    "df.sample()"
   ]
  },
  {
   "cell_type": "markdown",
   "id": "6f03d08a-87f1-4eaa-9eb1-75439705d571",
   "metadata": {},
   "source": [
    "# Creating new column"
   ]
  },
  {
   "cell_type": "code",
   "execution_count": 8,
   "id": "33020708-4266-4067-b78b-c619f641999e",
   "metadata": {},
   "outputs": [
    {
     "data": {
      "text/html": [
       "<div>\n",
       "<style scoped>\n",
       "    .dataframe tbody tr th:only-of-type {\n",
       "        vertical-align: middle;\n",
       "    }\n",
       "\n",
       "    .dataframe tbody tr th {\n",
       "        vertical-align: top;\n",
       "    }\n",
       "\n",
       "    .dataframe thead th {\n",
       "        text-align: right;\n",
       "    }\n",
       "</style>\n",
       "<table border=\"1\" class=\"dataframe\">\n",
       "  <thead>\n",
       "    <tr style=\"text-align: right;\">\n",
       "      <th></th>\n",
       "      <th>id</th>\n",
       "      <th>title</th>\n",
       "      <th>sq_mt_built</th>\n",
       "      <th>sq_mt_useful</th>\n",
       "      <th>n_rooms</th>\n",
       "      <th>n_bathrooms</th>\n",
       "      <th>floor</th>\n",
       "      <th>rent_price</th>\n",
       "      <th>buy_price</th>\n",
       "      <th>house_type_id</th>\n",
       "      <th>...</th>\n",
       "      <th>has_storage_room</th>\n",
       "      <th>is_accessible</th>\n",
       "      <th>has_green_zones</th>\n",
       "      <th>energy_certificate</th>\n",
       "      <th>has_parking</th>\n",
       "      <th>Neighborhood_code</th>\n",
       "      <th>Neighborhood_name</th>\n",
       "      <th>District_code</th>\n",
       "      <th>District_name</th>\n",
       "      <th>eurm2</th>\n",
       "    </tr>\n",
       "  </thead>\n",
       "  <tbody>\n",
       "    <tr>\n",
       "      <th>0</th>\n",
       "      <td>21742</td>\n",
       "      <td>Piso en venta en calle de Godella, 64</td>\n",
       "      <td>64.0</td>\n",
       "      <td>60.0</td>\n",
       "      <td>2</td>\n",
       "      <td>1</td>\n",
       "      <td>3</td>\n",
       "      <td>471</td>\n",
       "      <td>85000</td>\n",
       "      <td>Pisos</td>\n",
       "      <td>...</td>\n",
       "      <td>False</td>\n",
       "      <td>False</td>\n",
       "      <td>False</td>\n",
       "      <td>D</td>\n",
       "      <td>False</td>\n",
       "      <td>135</td>\n",
       "      <td>San Cristóbal</td>\n",
       "      <td>21</td>\n",
       "      <td>Villaverde</td>\n",
       "      <td>1328.12</td>\n",
       "    </tr>\n",
       "    <tr>\n",
       "      <th>1</th>\n",
       "      <td>21741</td>\n",
       "      <td>Piso en venta en calle de la del Manojo de Rosas</td>\n",
       "      <td>70.0</td>\n",
       "      <td>NaN</td>\n",
       "      <td>3</td>\n",
       "      <td>1</td>\n",
       "      <td>4</td>\n",
       "      <td>666</td>\n",
       "      <td>129900</td>\n",
       "      <td>Pisos</td>\n",
       "      <td>...</td>\n",
       "      <td>False</td>\n",
       "      <td>False</td>\n",
       "      <td>False</td>\n",
       "      <td>en trámite</td>\n",
       "      <td>False</td>\n",
       "      <td>132</td>\n",
       "      <td>Los Ángeles</td>\n",
       "      <td>21</td>\n",
       "      <td>Villaverde</td>\n",
       "      <td>1855.71</td>\n",
       "    </tr>\n",
       "  </tbody>\n",
       "</table>\n",
       "<p>2 rows × 30 columns</p>\n",
       "</div>"
      ],
      "text/plain": [
       "      id                                             title  sq_mt_built  \\\n",
       "0  21742             Piso en venta en calle de Godella, 64         64.0   \n",
       "1  21741  Piso en venta en calle de la del Manojo de Rosas         70.0   \n",
       "\n",
       "   sq_mt_useful n_rooms n_bathrooms floor  rent_price  buy_price  \\\n",
       "0          60.0       2           1     3         471      85000   \n",
       "1           NaN       3           1     4         666     129900   \n",
       "\n",
       "  house_type_id  ...  has_storage_room  is_accessible  has_green_zones  \\\n",
       "0         Pisos  ...             False          False            False   \n",
       "1         Pisos  ...             False          False            False   \n",
       "\n",
       "   energy_certificate  has_parking  Neighborhood_code  Neighborhood_name  \\\n",
       "0                   D        False                135      San Cristóbal   \n",
       "1          en trámite        False                132        Los Ángeles   \n",
       "\n",
       "   District_code  District_name    eurm2  \n",
       "0             21     Villaverde  1328.12  \n",
       "1             21     Villaverde  1855.71  \n",
       "\n",
       "[2 rows x 30 columns]"
      ]
     },
     "execution_count": 8,
     "metadata": {},
     "output_type": "execute_result"
    }
   ],
   "source": [
    "df['eurm2'] = round(df['buy_price'] / df['sq_mt_built'],2)\n",
    "df.head(2)"
   ]
  },
  {
   "cell_type": "code",
   "execution_count": 9,
   "id": "fbda108f-9f0a-45da-8201-f42fa5ab5155",
   "metadata": {},
   "outputs": [],
   "source": [
    "st.set_page_config(page_title='Visualization',\n",
    "                  layout='wide',\n",
    "                  initial_sidebar_state='expanded')"
   ]
  },
  {
   "cell_type": "code",
   "execution_count": null,
   "id": "0aa7e9af-7fef-4443-b622-743bb67b25f3",
   "metadata": {},
   "outputs": [],
   "source": []
  }
 ],
 "metadata": {
  "kernelspec": {
   "display_name": "ironhack",
   "language": "python",
   "name": "ironhack"
  },
  "language_info": {
   "codemirror_mode": {
    "name": "ipython",
    "version": 3
   },
   "file_extension": ".py",
   "mimetype": "text/x-python",
   "name": "python",
   "nbconvert_exporter": "python",
   "pygments_lexer": "ipython3",
   "version": "3.10.8"
  }
 },
 "nbformat": 4,
 "nbformat_minor": 5
}
